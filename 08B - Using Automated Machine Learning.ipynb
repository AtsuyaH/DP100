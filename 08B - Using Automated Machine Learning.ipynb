{
 "cells": [
  {
   "cell_type": "markdown",
   "metadata": {},
   "source": [
    "# Automated Machine Learningの使用\n",
    "\n",
    "モデルのトレーニングに使用できる機械学習アルゴリズムにはさまざまな種類があり、特定のデータおよび予測要件に最も効果的なアルゴリズムを決定するのは容易ではない場合があります。さらに、正規化、欠落した機能の代入などの手法を使用して、トレーニングデータを前処理することにより、モデルの予測パフォーマンスに大きな影響を与えることができます。要件に最適な*モデルを見つけるための探求では、アルゴリズムと前処理変換の多くの組み合わせを試す必要があります。これには多くの時間がかかり、リソースを計算します。\n",
    "\n",
    "Azure Machine Learningでは、さまざまなアルゴリズムと前処理オプションを使用してトレーニングされたモデルの比較を自動化できます。 [Azure Machine Learning studio](https：//ml/azure.com)のビジュアルインターフェイスまたはSDKを使用して、この機能を活用できます。 SDKを使用すると、自動化された機械学習実験の設定をより細かく制御できますが、視覚的なインターフェイスは使いやすくなっています。このラボでは、SDKを使用したAutomated Machine learningについて学習します。\n",
    "\n",
    "## ワークスペースに接続する\n",
    "\n",
    "最初に行う必要があるのは、Azure ML SDKを使用してワークスペースに接続することです。\n",
    "\n",
    "> **Note**: 前の演習を完了してから、Azureサブスクリプションとの認証済みセッションの有効期限が切れた場合、再認証するように求められます。"
   ]
  },
  {
   "cell_type": "code",
   "execution_count": null,
   "metadata": {},
   "outputs": [],
   "source": [
    "import azureml.core\n",
    "from azureml.core import Workspace\n",
    "\n",
    "# Load the workspace from the saved config file\n",
    "ws = Workspace.from_config()\n",
    "print('Ready to use Azure ML {} to work with {}'.format(azureml.core.VERSION, ws.name))"
   ]
  },
  {
   "cell_type": "markdown",
   "metadata": {},
   "source": [
    "## Automated Machine Learning用のデータを準備する\n",
    "\n",
    "Automated Machine Learningのトレーニングスクリプトを作成する必要はありませんが、トレーニングデータを読み込む必要があります。"
   ]
  },
  {
   "cell_type": "code",
   "execution_count": null,
   "metadata": {},
   "outputs": [],
   "source": [
    "import pandas as pd\n",
    "\n",
    "# Load the data\n",
    "train_ds = pd.read_csv('data/diabetes.csv')\n",
    "print('Data ready!')"
   ]
  },
  {
   "cell_type": "markdown",
   "metadata": {},
   "source": [
    "## Automated Machine Learningを構成する\n",
    "\n",
    "これで、Automated Machine learning実験を構成する準備が整いました。これを行うには、実験環境に必要なパッケージを含む実行構成、試行する組み合わせの数、モデルを評価するときに使用するメトリックなどを指定する構成設定のセットが必要です。"
   ]
  },
  {
   "cell_type": "code",
   "execution_count": null,
   "metadata": {},
   "outputs": [],
   "source": [
    "from azureml.train.automl import AutoMLConfig\n",
    "\n",
    "automl_config = AutoMLConfig(name='Automated ML Experiment',\n",
    "                             task='classification',\n",
    "                             compute_target='local',\n",
    "                             training_data = train_ds,\n",
    "                             n_cross_validations = 2,\n",
    "                             label_column_name='Diabetic',\n",
    "                             iterations=6,\n",
    "                             primary_metric = 'AUC_weighted',\n",
    "                             max_concurrent_iterations=4,\n",
    "                             featurization='auto'\n",
    "                             )\n",
    "\n",
    "print(\"Ready for Auto ML run.\")"
   ]
  },
  {
   "cell_type": "markdown",
   "metadata": {},
   "source": [
    "## Automated Machine learning実験を実行する\n",
    "\n",
    "OK、準備完了です。自動化された機械学習実験を実行しましょう。\n",
    "\n",
    "> **Note**: これにはかなりの時間がかかります。最初に、コンピューティング環境を準備する必要があります。これが完了すると、実験が開始され、各反復が完了すると進行状況が表示されます。 [Azure Machine Learning studio](https://ml.azure.com)で計算と実験のステータスを監視することもできます."
   ]
  },
  {
   "cell_type": "code",
   "execution_count": null,
   "metadata": {
    "scrolled": false
   },
   "outputs": [],
   "source": [
    "from azureml.core.experiment import Experiment\n",
    "from azureml.widgets import RunDetails\n",
    "\n",
    "print('Submitting Auto ML experiment...')\n",
    "automl_experiment = Experiment(ws, 'diabetes_automl')\n",
    "automl_run = automl_experiment.submit(automl_config)\n",
    "RunDetails(automl_run).show()\n",
    "automl_run.wait_for_completion()"
   ]
  },
  {
   "cell_type": "markdown",
   "metadata": {},
   "source": [
    "## 最高のパフォーマンスモデルを決定する\n",
    "\n",
    "実験が完了したら、ウィジェットで出力を表示し、最良の結果が得られた実行をクリックして詳細を表示します。\n",
    "次に、リンクをクリックしてAzureポータルで実験の詳細を表示し、最良の結果をもたらした個々の実行の詳細を表示する前に、実験全体の詳細を表示します。ここには、生成されたモデルのパフォーマンスに関する多くの情報があります。\n",
    "\n",
    "最高の実行とそれが生成したモデルを取得しましょう。"
   ]
  },
  {
   "cell_type": "code",
   "execution_count": null,
   "metadata": {},
   "outputs": [],
   "source": [
    "best_run, fitted_model = automl_run.get_output()\n",
    "print(best_run)\n",
    "print(fitted_model)\n",
    "best_run_metrics = best_run.get_metrics()\n",
    "for metric_name in best_run_metrics:\n",
    "    metric = best_run_metrics[metric_name]\n",
    "    print(metric_name, metric)"
   ]
  },
  {
   "cell_type": "markdown",
   "metadata": {},
   "source": [
    "Automated Machine learningには、[Scikit-Learn Transformationパイプライン]（https://scikit-learn.org/stable/modules/compose.html#combining-estimators）を使用して達成されるデータの前処理を試みるオプションが含まれますAzure Machine Learningパイプラインと混同しないでください！）。これらは、推論の前にデータを変換する手順を含むモデルを生成します。このようなモデルのステップを表示できます:"
   ]
  },
  {
   "cell_type": "code",
   "execution_count": null,
   "metadata": {},
   "outputs": [],
   "source": [
    "for step in fitted_model.named_steps:\n",
    "    print(step)"
   ]
  },
  {
   "cell_type": "markdown",
   "metadata": {},
   "source": [
    "最後に、最良のパフォーマンスのモデルを見つけたら、それを登録できます。"
   ]
  },
  {
   "cell_type": "code",
   "execution_count": null,
   "metadata": {},
   "outputs": [],
   "source": [
    "from azureml.core import Model\n",
    "\n",
    "# Register model\n",
    "best_run.register_model(model_path='outputs/model.pkl', model_name='diabetes_model_automl',\n",
    "                        tags={'Training context':'Auto ML'},\n",
    "                        properties={'AUC': best_run_metrics['AUC_weighted'], 'Accuracy': best_run_metrics['accuracy']})\n",
    "\n",
    "# List registered models\n",
    "for model in Model.list(ws):\n",
    "    print(model.name, 'version:', model.version)\n",
    "    for tag_name in model.tags:\n",
    "        tag = model.tags[tag_name]\n",
    "        print ('\\t',tag_name, ':', tag)\n",
    "    for prop_name in model.properties:\n",
    "        prop = model.properties[prop_name]\n",
    "        print ('\\t',prop_name, ':', prop)\n",
    "    print('\\n')"
   ]
  },
  {
   "cell_type": "markdown",
   "metadata": {},
   "source": [
    "> **詳しくは**: Automated Machine learningの詳細については、[Azure MLドキュメント](https://docs.microsoft.com/azure/machine-learning/how-to-configure-auto-train)を参照してください。."
   ]
  }
 ],
 "metadata": {
  "kernelspec": {
   "display_name": "Python 3.6 - AzureML",
   "language": "python",
   "name": "python3-azureml"
  },
  "language_info": {
   "codemirror_mode": {
    "name": "ipython",
    "version": 3
   },
   "file_extension": ".py",
   "mimetype": "text/x-python",
   "name": "python",
   "nbconvert_exporter": "python",
   "pygments_lexer": "ipython3",
   "version": "3.6.9"
  }
 },
 "nbformat": 4,
 "nbformat_minor": 2
}
