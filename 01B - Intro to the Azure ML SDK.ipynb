{
 "cells": [
  {
   "cell_type": "markdown",
   "metadata": {},
   "source": [
    "# Azure ML SDKの概要\n",
    "\n",
    "Azure Machine Learning（*Azure ML*）は、機械学習ソリューションを作成および管理するためのクラウドベースのサービスです。データサイエンティストが既存のデータ処理とモデル開発のスキルとフレームワークを活用し、ワークロードをクラウドに拡張できるように設計されています。 Python用Azure ML SDKは、AzureサブスクリプションでAzure MLを操作するために使用できるクラスを提供します。\n",
    "\n",
    "## Azure ML SDKバージョンを確認する\n",
    "\n",
    "**azureml-core**パッケージをインポートし、インストールされているSDKのバージョンを確認することから始めましょう。"
   ]
  },
  {
   "cell_type": "code",
   "execution_count": null,
   "metadata": {},
   "outputs": [],
   "source": [
    "import azureml.core\n",
    "print(\"Ready to use Azure ML\", azureml.core.VERSION)"
   ]
  },
  {
   "cell_type": "markdown",
   "metadata": {},
   "source": [
    "## ワークスペースに接続する\n",
    "\n",
    "すべての実験と関連リソースは、Azure MLワークスペース内で管理されます。既存のワークスペースに接続するか、Azure ML SDKを使用して新しいワークスペースを作成できます。\n",
    "\n",
    "ほとんどの場合、ワークスペース構成をJSON構成ファイルに保存する必要があります。これにより、AzureサブスクリプションIDなどの詳細を覚える必要なく、再接続が簡単になります。 AzureポータルのワークスペースのブレードからJSON構成ファイルをダウンロードできますが、ワークスペース内でコンピューティングインスタンスを使用している場合、構成ファイルは既にルートフォルダーにダウンロードされています。\n",
    "\n",
    "以下のコードは、構成ファイルを使用してワークスペースに接続します。ノートブックセッションで初めて実行する場合は、https：//microsoft.com/deviceloginリンクをクリックして、自動生成されたコードを入力し、Azureにサインインすることにより、Azureにサインインするように求められます。サインインに成功したら、開いていたブラウザータブを閉じて、このノートブックに戻ることができます。"
   ]
  },
  {
   "cell_type": "code",
   "execution_count": null,
   "metadata": {},
   "outputs": [],
   "source": [
    "from azureml.core import Workspace\n",
    "\n",
    "ws = Workspace.from_config()\n",
    "print(ws.name, \"loaded\")"
   ]
  },
  {
   "cell_type": "markdown",
   "metadata": {},
   "source": [
    "## Azure MLリソースを表示する\n",
    "\n",
    "ワークスペースへの接続ができたので、そこに含まれるリソースを表示できます。"
   ]
  },
  {
   "cell_type": "code",
   "execution_count": null,
   "metadata": {},
   "outputs": [],
   "source": [
    "from azureml.core import ComputeTarget, Datastore, Dataset\n",
    "\n",
    "print(\"Compute Targets:\")\n",
    "for compute_name in ws.compute_targets:\n",
    "    compute = ws.compute_targets[compute_name]\n",
    "    print(\"\\t\", compute.name, ':', compute.type)\n",
    "    \n",
    "print(\"Datastores:\")\n",
    "for datastore_name in ws.datastores:\n",
    "    datastore = Datastore.get(ws, datastore_name)\n",
    "    print(\"\\t\", datastore.name, ':', datastore.datastore_type)\n",
    "    \n",
    "print(\"Datasets:\")\n",
    "for dataset_name in list(ws.datasets.keys()):\n",
    "    dataset = Dataset.get_by_name(ws, dataset_name)\n",
    "    print(\"\\t\", dataset.name)"
   ]
  },
  {
   "cell_type": "markdown",
   "metadata": {},
   "source": [
    "これで、Azure ML SDKを使用してワークスペースのリソースを表示する方法がわかりました。 SDKは、Azure MLを使用して機械学習ワークロードを操作するために必要なリソースの作成と構成をスクリプト化する優れた方法を提供します。詳細については、[Azure ML SDKドキュメント](https://docs.microsoft.com/python/api/overview/azure/ml/intro?view=azure-ml-py)を参照してください。"
   ]
  },
  {
   "cell_type": "markdown",
   "metadata": {},
   "source": [
    "[**ファイル**]メニューで、[**閉じて停止**]をクリックしてこのノートブックを閉じます。その後、実習ラボの手順に戻ります。"
   ]
  }
 ],
 "metadata": {
  "kernelspec": {
   "display_name": "Python 3.6 - AzureML",
   "language": "python",
   "name": "python3-azureml"
  },
  "language_info": {
   "codemirror_mode": {
    "name": "ipython",
    "version": 3
   },
   "file_extension": ".py",
   "mimetype": "text/x-python",
   "name": "python",
   "nbconvert_exporter": "python",
   "pygments_lexer": "ipython3",
   "version": "3.6.9"
  }
 },
 "nbformat": 4,
 "nbformat_minor": 2
}
