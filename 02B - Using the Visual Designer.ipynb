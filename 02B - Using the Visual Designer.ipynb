{
 "cells": [
  {
   "cell_type": "markdown",
   "metadata": {},
   "source": [
    "# Visual designerの使用\n",
    "\n",
    "> **重要**: この演習では、[Lab 2A](labdocs / Lab02A.md)および[Lab 2B](labdocs/Lab02B.md)を完了し、コンテナ化されたサービスとして推論パイプラインを作成および展開していることを前提としています。\n",
    "\n",
    "下のセルにコードを追加して、**predict-diabetes**サービスをテストします。"
   ]
  },
  {
   "cell_type": "code",
   "execution_count": null,
   "metadata": {},
   "outputs": [],
   "source": []
  }
 ],
 "metadata": {
  "kernelspec": {
   "display_name": "Python 3.6 - AzureML",
   "language": "python",
   "name": "python3-azureml"
  },
  "language_info": {
   "codemirror_mode": {
    "name": "ipython",
    "version": 3
   },
   "file_extension": ".py",
   "mimetype": "text/x-python",
   "name": "python",
   "nbconvert_exporter": "python",
   "pygments_lexer": "ipython3",
   "version": "3.6.9"
  }
 },
 "nbformat": 4,
 "nbformat_minor": 2
}