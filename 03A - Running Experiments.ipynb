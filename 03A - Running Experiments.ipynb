{
 "cells": [
  {
   "cell_type": "markdown",
   "metadata": {},
   "source": [
    "# 実験の実行\n",
    "\n",
    "Azure Machine Learning SDKを使用して、メトリックを記録して出力を生成するコード実験を実行できます。これは、Azure Machine Learningのほとんどの機械学習操作の中核です。\n",
    "\n",
    "## ワークスペースに接続する\n",
    "\n",
    "最初に行う必要があるのは、Azure ML SDKを使用してワークスペースに接続することです。\n",
    "\n",
    "> **Note**: 前の演習を完了してから、Azureサブスクリプションとの認証済みセッションの有効期限が切れた場合、再認証するように求められます。"
   ]
  },
  {
   "cell_type": "code",
   "execution_count": null,
   "metadata": {},
   "outputs": [],
   "source": [
    "import azureml.core\n",
    "from azureml.core import Workspace\n",
    "\n",
    "# Load the workspace from the saved config file\n",
    "ws = Workspace.from_config()\n",
    "print('Ready to use Azure ML {} to work with {}'.format(azureml.core.VERSION, ws.name))"
   ]
  },
  {
   "cell_type": "markdown",
   "metadata": {},
   "source": [
    "## 実験を行う\n",
    "\n",
    "データサイエンティストが実行する必要がある最も基本的なタスクの1つは、データを処理および分析する実験を作成して実行することです。",
    "この演習では、Azure ML *experiment*を使用してPythonコードを実行し、データから抽出された値を記録する方法を学習します。",
    "この場合、糖尿病の検査を受けた患者の詳細を含む簡単なデータセットを使用します。",
    "実験を実行して、データを探索し、統計、視覚化、およびデータサンプルを抽出します。使用するコードのほとんどは、データ探索プロセスで実行できるような、かなり汎用的なPythonです。",
    "ただし、数行を追加すると、コードはAzure ML *experiment*を使用して実行の詳細をログに記録します。"
   ]
  },
  {
   "cell_type": "code",
   "execution_count": null,
   "metadata": {
    "scrolled": false
   },
   "outputs": [],
   "source": [
    "from azureml.core import Experiment\n",
    "import pandas as pd\n",
    "import matplotlib.pyplot as plt\n",
    "%matplotlib inline \n",
    "\n",
    "# Create an Azure ML experiment in your workspace\n",
    "experiment = Experiment(workspace = ws, name = \"diabetes-experiment\")\n",
    "\n",
    "# Start logging data from the experiment\n",
    "run = experiment.start_logging()\n",
    "print(\"Starting experiment:\", experiment.name)\n",
    "\n",
    "# load the data from a local file\n",
    "data = pd.read_csv('data/diabetes.csv')\n",
    "\n",
    "# Count the rows and log the result\n",
    "row_count = (len(data))\n",
    "run.log('observations', row_count)\n",
    "print('Analyzing {} rows of data'.format(row_count))\n",
    "\n",
    "# Plot and log the count of diabetic vs non-diabetic patients\n",
    "diabetic_counts = data['Diabetic'].value_counts()\n",
    "fig = plt.figure(figsize=(6,6))\n",
    "ax = fig.gca()    \n",
    "diabetic_counts.plot.bar(ax = ax) \n",
    "ax.set_title('Patients with Diabetes') \n",
    "ax.set_xlabel('Diagnosis') \n",
    "ax.set_ylabel('Patients')\n",
    "plt.show()\n",
    "run.log_image(name = 'label distribution', plot = fig)\n",
    "\n",
    "# log distinct pregnancy counts\n",
    "pregnancies = data.Pregnancies.unique()\n",
    "run.log_list('pregnancy categories', pregnancies)\n",
    "\n",
    "# Log summary statistics for numeric columns\n",
    "med_columns = ['PlasmaGlucose', 'DiastolicBloodPressure', 'TricepsThickness', 'SerumInsulin', 'BMI']\n",
    "summary_stats = data[med_columns].describe().to_dict()\n",
    "for col in summary_stats:\n",
    "    keys = list(summary_stats[col].keys())\n",
    "    values = list(summary_stats[col].values())\n",
    "    for index in range(len(keys)):\n",
    "        run.log_row(col, stat = keys[index], value = values[index])\n",
    "        \n",
    "# Save a sample of the data and upload it to the experiment output\n",
    "data.sample(100).to_csv('sample.csv', index=False, header=True)\n",
    "run.upload_file(name = 'outputs/sample.csv', path_or_stream = './sample.csv')\n",
    "\n",
    "# Complete the run\n",
    "run.complete()"
   ]
  },
  {
   "cell_type": "markdown",
   "metadata": {},
   "source": [
    "## 実験結果を見る\n",
    "\n",
    "実験が終了したら、**run**オブジェクトを使用して、実行とその出力に関する情報を取得できます。:"
   ]
  },
  {
   "cell_type": "code",
   "execution_count": null,
   "metadata": {},
   "outputs": [],
   "source": [
    "import json\n",
    "\n",
    "# Get run details\n",
    "details = run.get_details()\n",
    "print(details)\n",
    "\n",
    "# Get logged metrics\n",
    "metrics = run.get_metrics()\n",
    "print(json.dumps(metrics, indent=2))\n",
    "\n",
    "# Get output files\n",
    "files = run.get_file_names()\n",
    "print(json.dumps(files, indent=2))"
   ]
  },
  {
   "cell_type": "markdown",
   "metadata": {},
   "source": [
    "Jupyter Notebooksでは、**RunDetails**ウィジェットを使用して、実行の詳細を視覚化できます。"
   ]
  },
  {
   "cell_type": "code",
   "execution_count": null,
   "metadata": {},
   "outputs": [],
   "source": [
    "from azureml.widgets import RunDetails\n",
    "\n",
    "RunDetails(run).show()"
   ]
  },
  {
   "cell_type": "markdown",
   "metadata": {},
   "source": [
    "**RunDetails**ウィジェットには、Azure Machine Learning studioで実行を表示するリンクが含まれていることに注意してください。これをクリックして、実行の詳細が記載された新しいブラウザタブを開きます（[Azure Machine Learning studio](https://ml.azure.com)を開いて、**Experiments**ページで実行を見つけることもできます）。 Azure Machine Learning Studioで実行を表示するときは、次の点に注意してください。\n",
    "\n",
    "- The **Properties** タブには、実験実行の一般的なプロパティが含まれています。\n",
    "- The **Metrics** タブでは、記録されたメトリックを選択し、テーブルまたはチャートとして表示できます。\n",
    "- The **Images** タブでは、実験で記録された画像またはプロット（この場合は*Label Distribution*プロット）を選択して表示できます。\n",
    "- The **Child Runs** タブには、すべての子実行がリストされます（この実験では何もありません）。\n",
    "- The **Outputs** タブには、実験によって生成された出力ファイルが表示されます。\n",
    "- The **Logs** タブには、実験の計算コンテキストによって生成されたログが表示されます（この場合、実験はインラインで実行されたため、ログはありません）。\n",
    "- The **Snapshots** タブには、実験コードが実行されたフォルダー内のすべてのファイルが含まれます（この場合、このノートブックと同じフォルダー内のすべて）。\n",
    "- The **Raw JSON** タブには、実験の詳細のJSON表現が表示されます。\n",
    "- The **Explanations** タブは、実験によって生成されたモデルの説明を表示するために使用されます（この場合はありません）。"
   ]
  },
  {
   "cell_type": "markdown",
   "metadata": {},
   "source": [
    "## 実験スクリプトを実行する\n",
    "\n",
    "前の例では、このノートブックで実験をインラインで実行しました。より柔軟なソリューションは、実験用に個別のスクリプトを作成し、必要な他のファイルとともにフォルダーに保存し、Azure MLを使用してフォルダー内のスクリプトに基づいて実験を実行することです。\n",
    "\n",
    "まず、実験ファイル用のフォルダーを作成し、そこにデータをコピーしましょう:"
   ]
  },
  {
   "cell_type": "code",
   "execution_count": null,
   "metadata": {},
   "outputs": [],
   "source": [
    "import os, shutil\n",
    "\n",
    "# Create a folder for the experiment files\n",
    "folder_name = 'diabetes-experiment-files'\n",
    "experiment_folder = './' + folder_name\n",
    "os.makedirs(folder_name, exist_ok=True)\n",
    "\n",
    "# Copy the data file into the experiment folder\n",
    "shutil.copy('data/diabetes.csv', os.path.join(folder_name, \"diabetes.csv\"))"
   ]
  },
  {
   "cell_type": "markdown",
   "metadata": {},
   "source": [
    "次に、実験用のコードを含むPythonスクリプトを作成し、実験フォルダーに保存します。\n",
    "\n",
    "> **Note**: 次のセルを実行すると、スクリプトファイルが「作成」されるだけです-実行されません！"
   ]
  },
  {
   "cell_type": "code",
   "execution_count": null,
   "metadata": {},
   "outputs": [],
   "source": [
    "%%writefile $folder_name/diabetes_experiment.py\n",
    "from azureml.core import Run\n",
    "import pandas as pd\n",
    "import os\n",
    "\n",
    "# Get the experiment run context\n",
    "run = Run.get_context()\n",
    "\n",
    "# load the diabetes dataset\n",
    "data = pd.read_csv('diabetes.csv')\n",
    "\n",
    "# Count the rows and log the result\n",
    "row_count = (len(data))\n",
    "run.log('observations', row_count)\n",
    "print('Analyzing {} rows of data'.format(row_count))\n",
    "\n",
    "# Count and log the label counts\n",
    "diabetic_counts = data['Diabetic'].value_counts()\n",
    "print(diabetic_counts)\n",
    "for k, v in diabetic_counts.items():\n",
    "    run.log('Label:' + str(k), v)\n",
    "      \n",
    "# Save a sample of the data in the outputs folder (which gets uploaded automatically)\n",
    "os.makedirs('outputs', exist_ok=True)\n",
    "data.sample(100).to_csv(\"outputs/sample.csv\", index=False, header=True)\n",
    "\n",
    "# Complete the run\n",
    "run.complete()"
   ]
  },
  {
   "cell_type": "markdown",
   "metadata": {},
   "source": [
    "このコードは、以前に使用されていたインラインコードの簡易バージョンです。ただし、次のことに注意してください。\n",
    "- `Run.get_context（）`メソッドを使用して、スクリプトの実行時に実験実行コンテキストを取得します。\n",
    "- スクリプトが存在するフォルダーから糖尿病データをロードします。\n",
    "- **outputs**という名前のフォルダーを作成し、そこにサンプルファイルを書き込みます-このフォルダーは自動的に実験実行にアップロードされます"
   ]
  },
  {
   "cell_type": "markdown",
   "metadata": {},
   "source": [
    "これで、実験を実行する準備がほぼ整いました。対処する必要がある設定の問題がいくつかあります:\n",
    "\n",
    "1. スクリプトのPythonコード実行環境を定義する*実行構成*を作成します。この場合、デフォルトのPythonパッケージがインストールされたConda環境が自動的に作成されます。\n",
    "2. 実験で実行するPythonスクリプトファイルと、それを実行する環境を識別する* Script Configuration *を作成します。\n",
    "\n",
    "> **Note**: 現時点では、環境設定についてあまり心配する必要はありません。後で詳しく説明します。\n",
    "\n",
    "次のセルはこれらの構成オブジェクトを設定し、実験を送信します。"
   ]
  },
  {
   "cell_type": "code",
   "execution_count": null,
   "metadata": {},
   "outputs": [],
   "source": [
    "import os\n",
    "import sys\n",
    "from azureml.core import Experiment, RunConfiguration, ScriptRunConfig\n",
    "from azureml.widgets import RunDetails\n",
    "\n",
    "# create a new RunConfig object\n",
    "experiment_run_config = RunConfiguration()\n",
    "\n",
    "# Create a script config\n",
    "src = ScriptRunConfig(source_directory=experiment_folder, \n",
    "                      script='diabetes_experiment.py',\n",
    "                      run_config=experiment_run_config) \n",
    "\n",
    "# submit the experiment\n",
    "experiment = Experiment(workspace = ws, name = 'diabetes-experiment')\n",
    "run = experiment.submit(config=src)\n",
    "RunDetails(run).show()\n",
    "run.wait_for_completion()"
   ]
  },
  {
   "cell_type": "markdown",
   "metadata": {},
   "source": [
    "以前と同様に、[Azure Machine Learning studio](https://ml.azure.com)のウィジェットまたは実験へのリンクを使用して、実験によって生成された出力を表示できます。また、生成されたメトリックとファイル:"
   ]
  },
  {
   "cell_type": "code",
   "execution_count": null,
   "metadata": {},
   "outputs": [],
   "source": [
    "# Get logged metrics\n",
    "metrics = run.get_metrics()\n",
    "for key in metrics.keys():\n",
    "        print(key, metrics.get(key))\n",
    "print('\\n')\n",
    "for file in run.get_file_names():\n",
    "    print(file)"
   ]
  },
  {
   "cell_type": "markdown",
   "metadata": {},
   "source": [
    "## 実験実行履歴を表示する\n",
    "\n",
    "同じ実験を複数回実行したので、[Azure Machine Learning studio](https://ml.azure.com)で履歴を表示し、記録された各実行を調べることができます。または、ワークスペースから名前で実験を取得し、SDKを使用して実行を繰り返すことができます:"
   ]
  },
  {
   "cell_type": "code",
   "execution_count": null,
   "metadata": {},
   "outputs": [],
   "source": [
    "from azureml.core import Experiment, Run\n",
    "\n",
    "diabetes_experiment = ws.experiments['diabetes-experiment']\n",
    "for logged_run in diabetes_experiment.get_runs():\n",
    "    print('Run ID:', logged_run.id)\n",
    "    metrics = logged_run.get_metrics()\n",
    "    for key in metrics.keys():\n",
    "        print('-', key, metrics.get(key))"
   ]
  },
  {
   "cell_type": "markdown",
   "metadata": {},
   "source": [
    "> **詳しくは**: 実験の実行の詳細については、Azure MLドキュメントの[このトピック](https://docs.microsoft.com/azure/machine-learning/how-to-manage-runs)を参照してください。実行時にメトリックを記録する方法の詳細については、[このトピック](https://docs.microsoft.com/azure/machine-learning/how-to-track-experiments)を参照してください。"
   ]
  }
 ],
 "metadata": {
  "kernelspec": {
   "display_name": "Python 3.6 - AzureML",
   "language": "python",
   "name": "python3-azureml"
  },
  "language_info": {
   "codemirror_mode": {
    "name": "ipython",
    "version": 3
   },
   "file_extension": ".py",
   "mimetype": "text/x-python",
   "name": "python",
   "nbconvert_exporter": "python",
   "pygments_lexer": "ipython3",
   "version": "3.6.9"
  }
 },
 "nbformat": 4,
 "nbformat_minor": 2
}