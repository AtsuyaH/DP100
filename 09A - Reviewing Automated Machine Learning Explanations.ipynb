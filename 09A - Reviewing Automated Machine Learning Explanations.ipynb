{
 "cells": [
  {
   "cell_type": "markdown",
   "metadata": {},
   "source": [
    "# Automated Machine learningの説明の確認\n",
    "\n",
    "機械学習がますます普及するにつれて、モデルによる予測は私たちの社会の多くの側面に大きな影響を与えます。たとえば、機械学習モデルは、銀行が融資を許可するか、医師が治療の優先順位を決定する方法においてますます重要な要素になります。モデルを解釈および説明する能力はますます重要になっているため、機械学習モデルによって行われた予測の理論的根拠を説明および正当化し、モデル内の不注意なバイアスを特定できます。\n",
    "\n",
    "Automated Machine learningを使用してモデルをトレーニングする場合、各機能（前処理変換によって生成された工学的機能を含む）がラベル予測に影響を与える程度を定量化する変数の影響度の説明を生成するオプションがあります。このラボでは、自動化された機械学習実験によって生成された説明を調べます。\n",
    "\n",
    "\n",
    "## ワークスペースに接続する\n",
    "\n",
    "最初に行う必要があるのは、Azure ML SDKを使用してワークスペースに接続することです。\n",
    "\n",
    "> **Note**: 前の演習を完了してから、Azureサブスクリプションとの認証済みセッションの有効期限が切れた場合、再認証するように求められます。"
   ]
  },
  {
   "cell_type": "code",
   "execution_count": null,
   "metadata": {},
   "outputs": [],
   "source": [
    "import azureml.core\n",
    "from azureml.core import Workspace\n",
    "\n",
    "# Load the workspace from the saved config file\n",
    "ws = Workspace.from_config()\n",
    "print('Ready to use Azure ML {} to work with {}'.format(azureml.core.VERSION, ws.name))"
   ]
  },
  {
   "cell_type": "markdown",
   "metadata": {},
   "source": [
    "## Automated Machine learning実験を実行する\n",
    "\n",
    "このラボの時間を短縮するために、ローカルコンピューティングで3回の反復のみでAutomated Machine learning実験を実行します。\n",
    "\n",
    "**model_explainability**設定オプションが**True**に設定されていることに注意してください。"
   ]
  },
  {
   "cell_type": "code",
   "execution_count": null,
   "metadata": {},
   "outputs": [],
   "source": [
    "import pandas as pd\n",
    "from azureml.train.automl import AutoMLConfig\n",
    "from azureml.core.experiment import Experiment\n",
    "from azureml.widgets import RunDetails\n",
    "\n",
    "# Load the data\n",
    "train_data = pd.read_csv('data/diabetes.csv')\n",
    "\n",
    "# Configure Auto ML\n",
    "automl_config = AutoMLConfig(name='Automated ML Experiment',\n",
    "                             task='classification',\n",
    "                             compute_target='local',\n",
    "                             training_data = train_data,\n",
    "                             n_cross_validations = 2,\n",
    "                             label_column_name='Diabetic',\n",
    "                             iterations=3,\n",
    "                             primary_metric = 'AUC_weighted',\n",
    "                             max_concurrent_iterations=3,\n",
    "                             featurization='off',\n",
    "                             model_explainability=True # Generate feature importance!\n",
    "                             )\n",
    "\n",
    "# Run the Auto ML experiment\n",
    "print('Submitting Auto ML experiment...')\n",
    "automl_experiment = Experiment(ws, 'diabetes_automl')\n",
    "automl_run = automl_experiment.submit(automl_config)\n",
    "RunDetails(automl_run).show()\n",
    "automl_run.wait_for_completion()"
   ]
  },
  {
   "cell_type": "markdown",
   "metadata": {},
   "source": [
    "## 変数の影響度を表示\n",
    "\n",
    "上記のウィジェットで実験が完了したら、最良の結果が得られた実行をクリックして詳細を表示します。次に、視覚化の下部までスクロールして、相対的な変数の影響度を確認します。\n",
    "\n",
    "**ExplanationClient**クラスを使用して、実験で作成された最適なモデルの変数の影響度を表示することもできます:"
   ]
  },
  {
   "cell_type": "code",
   "execution_count": null,
   "metadata": {},
   "outputs": [],
   "source": [
    "from azureml.contrib.interpret.explanation.explanation_client import ExplanationClient\n",
    "\n",
    "# Get the best model (2nd item in outputs)\n",
    "best_run, fitted_model = automl_run.get_output()\n",
    "\n",
    "# Get the feature explanations\n",
    "client = ExplanationClient.from_run(best_run)\n",
    "engineered_explanations = client.download_model_explanation()\n",
    "feature_importances = engineered_explanations.get_feature_importance_dict()\n",
    "\n",
    "# Overall feature importance\n",
    "print('Feature\\tImportance')\n",
    "for key, value in feature_importances.items():\n",
    "    print(key, '\\t', value)"
   ]
  },
  {
   "cell_type": "markdown",
   "metadata": {},
   "source": [
    "## Azure Machine Learning Studioでモデルの説明を表示する\n",
    "\n",
    "実験の実行が完了したら、ウィジェットのリンクをクリックして、Azure Machine Learning Studioで実行を確認し、**説明**タブを表示します。次に：\n",
    "\n",
    "1. Automated Machine learningの実行によって作成された*explainer*を選択します。\n",
    "2. 全体的なグローバル変数の影響度を示す**Global Importance**チャートを表示します。\n",
    "3. *swarm*、*violin*、または*box*プロットのテストデータの各データポイントを示す**Summary Importance**チャートを表示します。\n",
    "4. 個々のポイントを選択して、選択したデータポイントの個々の予測の**Local feature Importance**を表示します。"
   ]
  },
  {
   "cell_type": "markdown",
   "metadata": {},
   "source": [
    "## 自動設計された変数の影響度を表示\n",
    "\n",
    "Automated Machine Learningには、データの前処理を試みるオプションが含まれます。これは、多くの場合、*機能強化*を実行して、モデルをトレーニングする新しい派生機能を作成します。そのオプションを有効にして、自動化された機械学習実験を再実行しましょう。"
   ]
  },
  {
   "cell_type": "code",
   "execution_count": null,
   "metadata": {},
   "outputs": [],
   "source": [
    "import pandas as pd\n",
    "from azureml.train.automl import AutoMLConfig\n",
    "from azureml.core.experiment import Experiment\n",
    "from azureml.widgets import RunDetails\n",
    "\n",
    "# Load the data\n",
    "train_data = pd.read_csv('data/diabetes.csv')\n",
    "\n",
    "# Configure Auto ML\n",
    "automl_config = AutoMLConfig(name='Automated ML Experiment',\n",
    "                             task='classification',\n",
    "                             compute_target='local',\n",
    "                             training_data = train_data,\n",
    "                             n_cross_validations = 2,\n",
    "                             label_column_name='Diabetic',\n",
    "                             iterations=3,\n",
    "                             primary_metric = 'AUC_weighted',\n",
    "                             max_concurrent_iterations=3,\n",
    "                             featurization='auto', # Enable feature engineering\n",
    "                             model_explainability=True # Generate feature importance\n",
    "                             )\n",
    "\n",
    "# Run the Auto ML experiment\n",
    "print('Submitting Auto ML experiment...')\n",
    "automl_experiment = Experiment(ws, 'diabetes_automl')\n",
    "automl_run = automl_experiment.submit(automl_config)\n",
    "RunDetails(automl_run).show()\n",
    "automl_run.wait_for_completion()"
   ]
  },
  {
   "cell_type": "markdown",
   "metadata": {},
   "source": [
    "機能は、[Scikit-Learn変換パイプライン](https://scikit-learn.org/stable/modules/compose.html#combining-estimators)を使用して実現されます（Azure Machine Learningパイプラインと混同しないでください！）。これらは、推論の前にデータを変換する手順を含むモデルを生成します。\n",
    "\n",
    "Run the following code to view the steps in the model pipeline, and the importance of the engineered features."
   ]
  },
  {
   "cell_type": "code",
   "execution_count": null,
   "metadata": {},
   "outputs": [],
   "source": [
    "from azureml.contrib.interpret.explanation.explanation_client import ExplanationClient\n",
    "\n",
    "# Get the best model (2nd item in outputs)\n",
    "best_run, fitted_model = automl_run.get_output()\n",
    "\n",
    "print('Model pipeline steps:')\n",
    "for step in fitted_model.named_steps:\n",
    "    print('-',step)\n",
    "    \n",
    "# Get the feature explanations\n",
    "client = ExplanationClient.from_run(best_run)\n",
    "engineered_explanations = client.download_model_explanation(raw=False)\n",
    "feature_importances = engineered_explanations.get_feature_importance_dict()\n",
    "\n",
    "# Overall feature importance\n",
    "print('\\nFeature\\tImportance')\n",
    "for key, value in feature_importances.items():\n",
    "    print(key, '\\t', value)"
   ]
  },
  {
   "cell_type": "markdown",
   "metadata": {},
   "source": [
    "> **詳しくは**: Automated Machine Learningの詳細については、[Azure MLドキュメント](https://docs.microsoft.com/azure/machine-learning/how-to-configure-auto-train)を参照してください。"
   ]
  }
 ],
 "metadata": {
  "kernelspec": {
   "display_name": "Python 3.6 - AzureML",
   "language": "python",
   "name": "python3-azureml"
  },
  "language_info": {
   "codemirror_mode": {
    "name": "ipython",
    "version": 3
   },
   "file_extension": ".py",
   "mimetype": "text/x-python",
   "name": "python",
   "nbconvert_exporter": "python",
   "pygments_lexer": "ipython3",
   "version": "3.6.9"
  }
 },
 "nbformat": 4,
 "nbformat_minor": 2
}
